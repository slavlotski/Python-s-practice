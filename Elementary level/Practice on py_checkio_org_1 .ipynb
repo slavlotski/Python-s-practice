{
 "cells": [
  {
   "cell_type": "markdown",
   "id": "1cdfc9a5",
   "metadata": {},
   "source": [
    "# Задача 1\n",
    "Это вводная миссия, целью которой является показать как решать задачи на CheckiO или как получить максимум от этого. Когда эта миссия будет решена еще одна станция будет доступна, с чуть более сложными миссиями.\n",
    "Итак, это самая простая миссия. Напишите функцию, которая будет получать 2 числа и возвращать результат произведения этих чисел.\n",
    "\n",
    "Входные данные: Два аргумента. Оба int\n",
    "\n",
    "Выходные данные: Int.\n",
    "\n",
    "Пример: \\\n",
    "mult_two(2, 3) == 6 \\\n",
    "mult_two(1, 0) == 0"
   ]
  },
  {
   "cell_type": "markdown",
   "id": "a26490c3",
   "metadata": {},
   "source": [
    "## Решение:"
   ]
  },
  {
   "cell_type": "code",
   "execution_count": 3,
   "id": "3b7e1fca",
   "metadata": {},
   "outputs": [
    {
     "name": "stdout",
     "output_type": "stream",
     "text": [
      "Example:\n",
      "6\n",
      "Coding complete? Click 'Check' to earn cool rewards!\n"
     ]
    }
   ],
   "source": [
    "def mult_two(a, b):\n",
    "    return a*b\n",
    "\n",
    "if __name__ == \"__main__\":\n",
    "    print(\"Example:\")\n",
    "    print(mult_two(3, 2))\n",
    "\n",
    "    # These \"asserts\" are used for self-checking and not for an auto-testing\n",
    "    assert mult_two(3, 2) == 6\n",
    "    assert mult_two(1, 0) == 0\n",
    "    print(\"Coding complete? Click 'Check' to earn cool rewards!\")"
   ]
  },
  {
   "cell_type": "markdown",
   "id": "5cc8e9c3",
   "metadata": {},
   "source": [
    "# Задача 2\n",
    "Дана строка и нужно найти ее первое слово.\n",
    "\n",
    "Это упрощенная версия миссии First Word , которую можно решить позднее.\n",
    "\n",
    "Строка состоит только из английских символов и пробелов.\n",
    "В начале и в конце строки пробелов нет.\n",
    "Входные данные: строка.\n",
    "\n",
    "Выходные данные: строка.\n",
    "\n",
    "Пример:\n",
    "first_word(\"Hello world\") == \"Hello\""
   ]
  },
  {
   "cell_type": "markdown",
   "id": "43c923ab",
   "metadata": {},
   "source": [
    "## Решение:"
   ]
  },
  {
   "cell_type": "code",
   "execution_count": 4,
   "id": "753aaa82",
   "metadata": {},
   "outputs": [
    {
     "name": "stdout",
     "output_type": "stream",
     "text": [
      "Example:\n",
      "Hello\n",
      "Coding complete? Click 'Check' to earn cool rewards!\n"
     ]
    }
   ],
   "source": [
    "def first_word(text: str) -> str:\n",
    "    \"\"\"\n",
    "    returns the first word in a given text.\n",
    "    \"\"\"\n",
    "    if ' ' in text:\n",
    "        return text[0:text.index(' ')]\n",
    "    else:\n",
    "        return text[0:]\n",
    "    \n",
    "\n",
    "\n",
    "if __name__ == \"__main__\":\n",
    "    print(\"Example:\")\n",
    "    print(first_word(\"Hello world\"))\n",
    "\n",
    "    # These \"asserts\" are used for self-checking and not for an auto-testing\n",
    "    assert first_word(\"Hello world\") == \"Hello\"\n",
    "    assert first_word(\"a word\") == \"a\"\n",
    "    assert first_word(\"hi\") == \"hi\"\n",
    "    print(\"Coding complete? Click 'Check' to earn cool rewards!\")"
   ]
  },
  {
   "cell_type": "markdown",
   "id": "9dea57a8",
   "metadata": {},
   "source": [
    "# Задача 3 \n",
    "Вы начали серию задач связаную с паролями. Каждая следующая задача связана с предыдущей. Каждая следующая задача будет сложнее предыдущей.\n",
    "\n",
    "В этой задаче, Вам нужно создать функцию проверки пароля.\n",
    "\n",
    "Условия проверки:\n",
    "\n",
    "длина пароля должна быть больше 6.\n",
    "Входные данные: Строка.\n",
    "\n",
    "Выходные данные: Логический тип.\n",
    "\n",
    "Пример: \n",
    "\n",
    "is_acceptable_password('short') == False \\\n",
    "is_acceptable_password('muchlonger') == True"
   ]
  },
  {
   "cell_type": "markdown",
   "id": "2c79f0a8",
   "metadata": {},
   "source": [
    "## Решение:"
   ]
  },
  {
   "cell_type": "code",
   "execution_count": 5,
   "id": "8a8f12f8",
   "metadata": {},
   "outputs": [
    {
     "name": "stdout",
     "output_type": "stream",
     "text": [
      "Example:\n",
      "False\n",
      "Coding complete? Click 'Check' to earn cool rewards!\n"
     ]
    }
   ],
   "source": [
    "def is_acceptable_password(password: str) -> bool:\n",
    "    \n",
    "    return len(password) > 6\n",
    "\n",
    "\n",
    "if __name__ == '__main__':\n",
    "    print(\"Example:\")\n",
    "    print(is_acceptable_password('short'))\n",
    "\n",
    "    # These \"asserts\" are used for self-checking and not for an auto-testing\n",
    "    assert is_acceptable_password('short') == False\n",
    "    assert is_acceptable_password('muchlonger') == True\n",
    "    assert is_acceptable_password('ashort') == False\n",
    "    print(\"Coding complete? Click 'Check' to earn cool rewards!\")"
   ]
  },
  {
   "cell_type": "markdown",
   "id": "32582d72",
   "metadata": {},
   "source": [
    "# Задача 4\n",
    "Вам дано положительное целое число. Определите сколько цифр оно имеет.\n",
    "\n",
    "Входные данные: Положительное целое число\n",
    "\n",
    "Выходные данные: Целое число.\n",
    "\n",
    "Пример:\n",
    "\n",
    "number_length(10) == 2 \\\n",
    "number_length(0) == 1"
   ]
  },
  {
   "cell_type": "markdown",
   "id": "7a3d1383",
   "metadata": {},
   "source": [
    "## Решение:"
   ]
  },
  {
   "cell_type": "code",
   "execution_count": 6,
   "id": "4f46598d",
   "metadata": {},
   "outputs": [
    {
     "name": "stdout",
     "output_type": "stream",
     "text": [
      "Example:\n",
      "2\n",
      "Coding complete? Click 'Check' to earn cool rewards!\n"
     ]
    }
   ],
   "source": [
    "def number_length(a: int) -> int:\n",
    "    return len(str(a))\n",
    "\n",
    "\n",
    "if __name__ == \"__main__\":\n",
    "    print(\"Example:\")\n",
    "    print(number_length(10))\n",
    "\n",
    "    # These \"asserts\" are used for self-checking and not for an auto-testing\n",
    "    assert number_length(10) == 2\n",
    "    assert number_length(0) == 1\n",
    "    assert number_length(4) == 1\n",
    "    assert number_length(44) == 2\n",
    "    print(\"Coding complete? Click 'Check' to earn cool rewards!\")"
   ]
  },
  {
   "attachments": {
    "image.png": {
     "image/png": "[encoded data removed]"
    }
   },
   "cell_type": "markdown",
   "id": "dd04bee4",
   "metadata": {},
   "source": [
    "# Задача 5\n",
    "You have a sequence of strings, and you’d like to determine the most frequently occurring string in the sequence. It can be only one.\n",
    "\n",
    "Input: non empty list of strings.\n",
    "\n",
    "Output: a string.\n",
    "\n",
    "Example:\n",
    "![image.png](attachment:image.png)"
   ]
  },
  {
   "cell_type": "markdown",
   "id": "b71d1308",
   "metadata": {},
   "source": [
    "## Решение:"
   ]
  },
  {
   "cell_type": "code",
   "execution_count": 7,
   "id": "8470a0c3",
   "metadata": {},
   "outputs": [
    {
     "name": "stdout",
     "output_type": "stream",
     "text": [
      "Example:\n",
      "a\n",
      "Done\n"
     ]
    }
   ],
   "source": [
    "def most_frequent(data: list) -> str:\n",
    "    \"\"\"\n",
    "    determines the most frequently occurring string in the sequence.\n",
    "    \"\"\"\n",
    "    total_freq = 0\n",
    "    string = ''\n",
    "    for i in data:\n",
    "        if data.count(i) > total_freq:\n",
    "            total_freq = data.count(i)\n",
    "            string = i\n",
    "    return string\n",
    "\n",
    "\n",
    "if __name__ == \"__main__\":\n",
    "    # These \"asserts\" using only for self-checking and not necessary for auto-testing\n",
    "    print(\"Example:\")\n",
    "    print(most_frequent([\"a\", \"b\", \"c\", \"a\", \"b\", \"a\"]))\n",
    "\n",
    "    assert most_frequent([\"a\", \"b\", \"c\", \"a\", \"b\", \"a\"]) == \"a\"\n",
    "\n",
    "    assert most_frequent([\"a\", \"a\", \"bi\", \"bi\", \"bi\"]) == \"bi\"\n",
    "    print(\"Done\")"
   ]
  },
  {
   "cell_type": "markdown",
   "id": "d2a72e6f",
   "metadata": {},
   "source": [
    "# Задача 6\n",
    "Попробуйте выяснить какое количество нулей содержит данное число в конце.\n",
    "\n",
    "Входные данные: Положительное целое число (int).\n",
    "\n",
    "Выходные данные: Целое число (int).\n",
    "\n",
    "Пример:\n",
    "\n",
    "end_zeros(0) == 1 \\\n",
    "end_zeros(1) == 0 \\\n",
    "end_zeros(10) == 1 \\\n",
    "end_zeros(101) == 0"
   ]
  },
  {
   "cell_type": "markdown",
   "id": "6705413d",
   "metadata": {},
   "source": [
    "## Решение:"
   ]
  },
  {
   "cell_type": "code",
   "execution_count": 8,
   "id": "1e2751a2",
   "metadata": {},
   "outputs": [
    {
     "name": "stdout",
     "output_type": "stream",
     "text": [
      "Example:\n",
      "1\n",
      "True\n",
      "Coding complete? Click 'Check' to earn cool rewards!\n"
     ]
    }
   ],
   "source": [
    "def end_zeros(num: int) -> int:\n",
    "    count_zeros = 0\n",
    "    for i in str(num)[::-1]:\n",
    "        if i == '0':\n",
    "            count_zeros+=1\n",
    "        else:\n",
    "            break\n",
    "    return count_zeros\n",
    "\n",
    "\n",
    "if __name__ == \"__main__\":\n",
    "    print(\"Example:\")\n",
    "    print(end_zeros(0))\n",
    "\n",
    "    # These \"asserts\" are used for self-checking and not for an auto-testing\n",
    "    assert end_zeros(0) == 1\n",
    "    assert end_zeros(1) == 0\n",
    "    assert end_zeros(10) == 1\n",
    "    assert end_zeros(101) == 0\n",
    "    assert end_zeros(245) == 0\n",
    "    print( end_zeros(100100) == 2)\n",
    "    print(\"Coding complete? Click 'Check' to earn cool rewards!\")"
   ]
  },
  {
   "attachments": {
    "image.png": {
     "image/png": "[encoded data removed]"
    }
   },
   "cell_type": "markdown",
   "id": "9202e90a",
   "metadata": {},
   "source": [
    "# Задача 7\n",
    "Верните данную строку в перевернутом виде.\n",
    "\n",
    "Входные данные: Строка.\n",
    "\n",
    "Выходные данные: Строка.\n",
    "\n",
    "Пример:![image.png](attachment:image.png)"
   ]
  },
  {
   "cell_type": "markdown",
   "id": "fca42992",
   "metadata": {},
   "source": [
    "## Решение:"
   ]
  },
  {
   "cell_type": "code",
   "execution_count": 9,
   "id": "6048942f",
   "metadata": {},
   "outputs": [
    {
     "name": "stdout",
     "output_type": "stream",
     "text": [
      "Example:\n",
      "lav\n",
      "Coding complete? Click 'Check' to earn cool rewards!\n"
     ]
    }
   ],
   "source": [
    "def backward_string(val: str) -> str:\n",
    "    return val[::-1]\n",
    "\n",
    "\n",
    "if __name__ == '__main__':\n",
    "    print(\"Example:\")\n",
    "    print(backward_string('val'))\n",
    "\n",
    "    # These \"asserts\" are used for self-checking and not for an auto-testing\n",
    "    assert backward_string('val') == 'lav'\n",
    "    assert backward_string('') == ''\n",
    "    assert backward_string('ohho') == 'ohho'\n",
    "    assert backward_string('123456789') == '987654321'\n",
    "    print(\"Coding complete? Click 'Check' to earn cool rewards!\")"
   ]
  },
  {
   "attachments": {
    "image.png": {
     "image/png": "[encoded data removed]"
    }
   },
   "cell_type": "markdown",
   "id": "321f7267",
   "metadata": {},
   "source": [
    "# Задача 8\n",
    "Ваша цель сейчас — создать функцию, которая принимает на вход кортеж и возвращает кортеж из 3 элементов: первого, третьего и второго с конца элементов заданного массива.\n",
    "![image.png](attachment:image.png)\n",
    "Важно отметить, что вам нужно использовать индекс для извлечения элементов из массива. Обратите внимание, нумерация индексов начинается с 0, не с 1. Это означает, что если вы хотите получить первый элемент из массива elements , вам нужен elements[0] , а если второй — elements[1] .\n",
    "\n",
    "Входные данные: Кортеж длиной не менее 3 элементов.\n",
    "\n",
    "Выходные данные: Кортеж.\n",
    "\n",
    "Пример:\n",
    "easy_unpack((6, 2, 9, 4, 3, 9)) == (6, 9, 3) \\\n",
    "easy_unpack((1, 2, 3, 4, 5, 6, 7, 9)) == (1, 3, 7) \\\n",
    "easy_unpack((1, 1, 1, 1)) == (1, 1, 1) \\\n",
    "easy_unpack((6, 3, 7)) == (6, 7, 3)"
   ]
  },
  {
   "cell_type": "markdown",
   "id": "84a3d326",
   "metadata": {},
   "source": [
    "## Решение:"
   ]
  },
  {
   "cell_type": "code",
   "execution_count": 10,
   "id": "b47a58a4",
   "metadata": {},
   "outputs": [
    {
     "name": "stdout",
     "output_type": "stream",
     "text": [
      "Examples:\n",
      "(1, 3, 7)\n",
      "Done! Go Check!\n"
     ]
    }
   ],
   "source": [
    "def easy_unpack(elements: tuple) -> tuple:\n",
    "    \"\"\"\n",
    "        returns a tuple with 3 elements - first, third and second to the last\n",
    "    \"\"\"\n",
    "    return (elements[0],elements[2],elements[len(elements)-2])\n",
    "\n",
    "if __name__ == '__main__':\n",
    "    print('Examples:')\n",
    "    print(easy_unpack((1, 2, 3, 4, 5, 6, 7, 9)))\n",
    "    \n",
    "    #These \"asserts\" using only for self-checking and not necessary for auto-testing\n",
    "    assert easy_unpack((1, 2, 3, 4, 5, 6, 7, 9)) == (1, 3, 7)\n",
    "    assert easy_unpack((6, 2, 9, 4, 3, 9)) == (6, 9, 3)\n",
    "    assert easy_unpack((1, 1, 1, 1)) == (1, 1, 1)\n",
    "    assert easy_unpack((6, 3, 7)) == (6, 7, 3)\n",
    "    print('Done! Go Check!')"
   ]
  },
  {
   "attachments": {
    "image.png": {
     "image/png": "[encoded data removed]"
    }
   },
   "cell_type": "markdown",
   "id": "3ce93d0b",
   "metadata": {},
   "source": [
    "# Задача 9\n",
    "Не все элементы важны. Вам нужно удалить из список все элементы до указаного.\n",
    "![image.png](attachment:image.png)\n",
    "На примере мы имеем список [1, 2, 3, 4, 5] где нужно было удалить все элементы до 3 - 1 и 2 соответственно.\n",
    "\n",
    "Есть два ньюанса: (1) если в списке нет элемента до которого нужно удалить остальные элементы, то список не должен измениться. (2) если list пустой, то он должен остаться пустым.\n",
    "\n",
    "Входные данные: Список и элемент до которого нужно удалить другие элементы.\n",
    "\n",
    "Выходные данные: Набор значений (кортеж, список, итератор ...).\n",
    "\n",
    "Пример:\n",
    "\n",
    "remove_all_before([1, 2, 3, 4, 5], 3) == [3, 4, 5] \\\n",
    "remove_all_before([1, 1, 2, 2, 3, 3], 2) == [2, 2, 3, 3]"
   ]
  },
  {
   "cell_type": "markdown",
   "id": "644128c8",
   "metadata": {},
   "source": [
    "## Решение:"
   ]
  },
  {
   "cell_type": "code",
   "execution_count": 11,
   "id": "78cbce3d",
   "metadata": {},
   "outputs": [
    {
     "name": "stdout",
     "output_type": "stream",
     "text": [
      "Example:\n",
      "[3, 4, 5]\n",
      "Coding complete? Click 'Check' to earn cool rewards!\n"
     ]
    }
   ],
   "source": [
    "from typing import Iterable\n",
    "\n",
    "def remove_all_before(items: list, border: int) -> Iterable:\n",
    "    return items if (len(items) == 0 or border not in items) else items[items.index(border):]\n",
    "\n",
    "\n",
    "if __name__ == '__main__':\n",
    "    print(\"Example:\")\n",
    "    print(list(remove_all_before([1, 2, 3, 4, 5], 3)))\n",
    "\n",
    "    # These \"asserts\" are used for self-checking and not for an auto-testing\n",
    "    assert list(remove_all_before([1, 2, 3, 4, 5], 3)) == [3, 4, 5]\n",
    "    assert list(remove_all_before([1, 1, 2, 2, 3, 3], 2)) == [2, 2, 3, 3]\n",
    "    assert list(remove_all_before([1, 1, 2, 4, 2, 3, 4], 2)) == [2, 4, 2, 3, 4]\n",
    "    assert list(remove_all_before([1, 1, 5, 6, 7], 2)) == [1, 1, 5, 6, 7]\n",
    "    assert list(remove_all_before([], 0)) == []\n",
    "    assert list(remove_all_before([7, 7, 7, 7, 7, 7, 7, 7, 7], 7)) == [7, 7, 7, 7, 7, 7, 7, 7, 7]\n",
    "    print(\"Coding complete? Click 'Check' to earn cool rewards!\")\n"
   ]
  },
  {
   "cell_type": "markdown",
   "id": "b7a8dee0",
   "metadata": {},
   "source": [
    "# Задача 10\n",
    "Проверить все ли символы в строке являются заглавными. Если строка пустая или в ней нет букв - функция должна вернуть True.\n",
    "\n",
    "Входные данные: Строка.\n",
    "\n",
    "Выходные данные: Логический тип.\n",
    "\n",
    "Пример:\n",
    "\n",
    "is_all_upper('ALL UPPER') == True \\\n",
    "is_all_upper('all lower') == False \\\n",
    "is_all_upper('mixed UPPER and lower') == False \\\n",
    "is_all_upper('') == True \\\n",
    "is_all_upper('444') == True \\\n",
    "is_all_upper('55 55 5') == True \n",
    "\n",
    "Условия: a-z, A-Z, 1-9 и пробелы"
   ]
  },
  {
   "cell_type": "markdown",
   "id": "4395261d",
   "metadata": {},
   "source": [
    "## Решение:"
   ]
  },
  {
   "cell_type": "code",
   "execution_count": 12,
   "id": "da80b50c",
   "metadata": {},
   "outputs": [
    {
     "name": "stdout",
     "output_type": "stream",
     "text": [
      "Example:\n",
      "True\n",
      "Coding complete? Click 'Check' to earn cool rewards!\n"
     ]
    }
   ],
   "source": [
    "def is_all_upper(text: str) -> bool:\n",
    "    return True if (text.upper()==text) or text in '' else False\n",
    "\n",
    "if __name__ == '__main__':\n",
    "    print(\"Example:\")\n",
    "    print(is_all_upper('ALL UPPER'))\n",
    "\n",
    "    # These \"asserts\" are used for self-checking and not for an auto-testing\n",
    "    assert is_all_upper('ALL UPPER') == True\n",
    "    assert is_all_upper('all lower') == False\n",
    "    assert is_all_upper('mixed UPPER and lower') == False\n",
    "    assert is_all_upper('') == True\n",
    "    assert is_all_upper('     ') == True\n",
    "    assert is_all_upper('444') == True\n",
    "    assert is_all_upper('55 55 5') == True\n",
    "    print(\"Coding complete? Click 'Check' to earn cool rewards!\")"
   ]
  },
  {
   "attachments": {
    "image.png": {
     "image/png": "[encoded data removed]"
    }
   },
   "cell_type": "markdown",
   "id": "ead135e8",
   "metadata": {},
   "source": [
    "# Задача 11\n",
    "В данном списке первый элемент должен стать последним. Пустой список или список из одного элемента не должен измениться.\n",
    "![image.png](attachment:image.png)\n",
    "Входные данные: Список.\n",
    "\n",
    "Выходные данные: Набор элементов.\n",
    "\n",
    "Пример:\n",
    "\n",
    "replace_first([1, 2, 3, 4]) == [2, 3, 4, 1] \\\n",
    "replace_first([1]) == [1]"
   ]
  },
  {
   "cell_type": "markdown",
   "id": "fc7a9b70",
   "metadata": {},
   "source": [
    "## Решение:"
   ]
  },
  {
   "cell_type": "code",
   "execution_count": 13,
   "id": "b4718694",
   "metadata": {},
   "outputs": [
    {
     "name": "stdout",
     "output_type": "stream",
     "text": [
      "Example:\n",
      "[2, 3, 4, 1]\n",
      "Coding complete? Click 'Check' to earn cool rewards!\n"
     ]
    }
   ],
   "source": [
    "from typing import Iterable\n",
    "\n",
    "def replace_first(items: list) -> Iterable:\n",
    "    if len(items) <= 1:\n",
    "        pass\n",
    "    else:\n",
    "        items.append(items.pop(0))\n",
    "    return items\n",
    "\n",
    "\n",
    "if __name__ == \"__main__\":\n",
    "    print(\"Example:\")\n",
    "    print(list(replace_first([1, 2, 3, 4])))\n",
    "\n",
    "    # These \"asserts\" are used for self-checking and not for an auto-testing\n",
    "    assert list(replace_first([1, 2, 3, 4])) == [2, 3, 4, 1]\n",
    "    assert list(replace_first([1])) == [1]\n",
    "    assert list(replace_first([])) == []\n",
    "    print(\"Coding complete? Click 'Check' to earn cool rewards!\")"
   ]
  },
  {
   "cell_type": "markdown",
   "id": "a926a33d",
   "metadata": {},
   "source": [
    "# Задача 12\n",
    "У вас есть число и нужно определить какая цифра из этого числа является наибольшей.\n",
    "\n",
    "Входные данные: Положительное целое число.\n",
    "\n",
    "Выходные данные: Целое число (0-9).\n",
    "\n",
    "Пример: \n",
    "\n",
    "max_digit(0) == 0 \\\n",
    "max_digit(52) == 5 \\\n",
    "max_digit(634) == 6 \\\n",
    "max_digit(1) == 1 \\\n",
    "max_digit(10000) == 1"
   ]
  },
  {
   "cell_type": "markdown",
   "id": "4a6963f9",
   "metadata": {},
   "source": [
    "## Решение:"
   ]
  },
  {
   "cell_type": "code",
   "execution_count": 14,
   "id": "1cbcd356",
   "metadata": {},
   "outputs": [
    {
     "name": "stdout",
     "output_type": "stream",
     "text": [
      "Example:\n",
      "0\n",
      "Coding complete? Click 'Check' to earn cool rewards!\n"
     ]
    }
   ],
   "source": [
    "def max_digit(number: int) -> int:\n",
    "    tmp = 0\n",
    "    for i in str(number):\n",
    "        if int(i) > tmp:\n",
    "            tmp = int(i)\n",
    "    return tmp\n",
    "\n",
    "\n",
    "if __name__ == '__main__':\n",
    "    print(\"Example:\")\n",
    "    print(max_digit(0))\n",
    "\n",
    "    # These \"asserts\" are used for self-checking and not for an auto-testing\n",
    "    assert max_digit(0) == 0\n",
    "    assert max_digit(52) == 5\n",
    "    assert max_digit(634) == 6\n",
    "    assert max_digit(1) == 1\n",
    "    assert max_digit(10000) == 1\n",
    "    print(\"Coding complete? Click 'Check' to earn cool rewards!\")"
   ]
  },
  {
   "cell_type": "markdown",
   "id": "ee65e194",
   "metadata": {},
   "source": [
    "# Задача 13\n",
    "Разделите строку на пары из двух символов. Если строка содержит нечетное количество символов, пропущенный второй символ последней пары должен быть заменен подчеркиванием ('_').\n",
    "\n",
    "Входные данные: Строка.\n",
    "\n",
    "Выходные данные: Массив строк.\n",
    "\n",
    "Пример:\n",
    "\n",
    "split_pairs('abcd') == ['ab', 'cd'] \\\n",
    "split_pairs('abc') == ['ab', 'c_']\n",
    "\n",
    "Предварительное условие: 0<=len(str)<=100"
   ]
  },
  {
   "cell_type": "markdown",
   "id": "976fa891",
   "metadata": {},
   "source": [
    "## Решение:"
   ]
  },
  {
   "cell_type": "code",
   "execution_count": 15,
   "id": "71f3646f",
   "metadata": {},
   "outputs": [
    {
     "name": "stdout",
     "output_type": "stream",
     "text": [
      "Example:\n",
      "['ab', 'cd']\n",
      "Coding complete? Click 'Check' to earn cool rewards!\n"
     ]
    }
   ],
   "source": [
    "def split_pairs(a):\n",
    "    list = []\n",
    "    if len(a) % 2 == 1:\n",
    "        a = a + '_'\n",
    "    len_str = len(a)\n",
    "    if len_str == 2:\n",
    "          list.append(a)\n",
    "    elif len(a) == 0:\n",
    "        pass\n",
    "    else:\n",
    "        for i,j in zip(a[:-1],a[1:]):\n",
    "            list = [i+j for i,j in zip(a[0::2],a[1::2])]\n",
    "    return list\n",
    "\n",
    "\n",
    "if __name__ == '__main__':\n",
    "    print(\"Example:\")\n",
    "    print(list(split_pairs('abcd')))\n",
    "\n",
    "    # These \"asserts\" are used for self-checking and not for an auto-testing\n",
    "    assert list(split_pairs('abcd')) == ['ab', 'cd']\n",
    "    assert list(split_pairs('abc')) == ['ab', 'c_']\n",
    "    assert list(split_pairs('abcdf')) == ['ab', 'cd', 'f_']\n",
    "    assert list(split_pairs('a')) == ['a_']\n",
    "    assert list(split_pairs('')) == []\n",
    "    print(\"Coding complete? Click 'Check' to earn cool rewards!\")"
   ]
  },
  {
   "cell_type": "markdown",
   "id": "743a9fa0",
   "metadata": {},
   "source": [
    "# Задача 14\n",
    "Вам дана строка состоящая только из цифр. Вам нужно посчитать сколько нулей (\"0\") находится в начале строки.\n",
    "\n",
    "Входные данные: Строка, состоящая только из цифр.\n",
    "\n",
    "Выходные данные: Целое число.\n",
    "\n",
    "Пример:\n",
    "\n",
    "beginning_zeros('100') == 0 \\\n",
    "beginning_zeros('001') == 2 \\\n",
    "beginning_zeros('100100') == 0 \\\n",
    "beginning_zeros('001001') == 2 \\\n",
    "beginning_zeros('012345679') == 1 \\\n",
    "beginning_zeros('0000') == 4\n",
    "\n",
    "Строка может иметь цифры: 0-9"
   ]
  },
  {
   "cell_type": "markdown",
   "id": "87756131",
   "metadata": {},
   "source": [
    "## Решение:"
   ]
  },
  {
   "cell_type": "code",
   "execution_count": 16,
   "id": "7fe9a72f",
   "metadata": {},
   "outputs": [
    {
     "name": "stdout",
     "output_type": "stream",
     "text": [
      "Example:\n",
      "0\n",
      "Coding complete? Click 'Check' to earn cool rewards!\n"
     ]
    }
   ],
   "source": [
    "def beginning_zeros(number: str) -> int:\n",
    "    cnt_zero = 0\n",
    "    if number[0] == '0':\n",
    "        for i in number:\n",
    "            if i == '0':\n",
    "                cnt_zero+=1\n",
    "            else:\n",
    "                break\n",
    "    return cnt_zero\n",
    "\n",
    "\n",
    "if __name__ == '__main__':\n",
    "    print(\"Example:\")\n",
    "    print(beginning_zeros('100'))\n",
    "\n",
    "    # These \"asserts\" are used for self-checking and not for an auto-testing\n",
    "    assert beginning_zeros('100') == 0\n",
    "    assert beginning_zeros('001') == 2\n",
    "    assert beginning_zeros('100100') == 0\n",
    "    assert beginning_zeros('001001') == 2\n",
    "    assert beginning_zeros('012345679') == 1\n",
    "    assert beginning_zeros('0000') == 4\n",
    "    print(\"Coding complete? Click 'Check' to earn cool rewards!\")"
   ]
  },
  {
   "cell_type": "markdown",
   "id": "4edca126",
   "metadata": {},
   "source": [
    "# Задача 15 \n",
    "Найдите ближайшее значение к переданному.\n",
    "\n",
    "Вам даны список значений в виде множества (Set) и значение, относительно которого, надо найти ближайшее.\n",
    "\n",
    "Например, мы имеем следующий ряд чисел: 4, 7, 10, 11, 12, 17. И нам нужно найти ближайшее значение к цифре 9. Если отсортировать этот ряд по возрастанию, то слева от 9 будет 7, а справа 10. Но 10 - находится ближе, чем 7, значит правильный ответ 10.\n",
    "\n",
    "Несколько уточнений:\n",
    "\n",
    "Если 2 числа находятся на одинаковом расстоянии - необходимо выбрать наименьшее из них;\n",
    "Ряд чисел всегда не пустой, т.е. размер >= 1;\n",
    "Переданное значение может быть в этом ряде, а значит оно и является ответом;\n",
    "В ряде могут быть как положительные, так и отрицательные числа, но они всегда целые;\n",
    "Ряд не отсортирован и состоит из уникальных чисел.\n",
    "Входные данные: Два аргумента. Ряд значений в виде set. Искомое значение - int\n",
    "\n",
    "Выходные данные: Int.\n",
    "\n",
    "Пример:\n",
    "\n",
    "nearest_value({4, 7, 10, 11, 12, 17}, 9) == 10 \\\n",
    "nearest_value({4, 7, 10, 11, 12, 17}, 8) == 7"
   ]
  },
  {
   "cell_type": "markdown",
   "metadata": {},
   "source": [
    "## Решение:"
   ]
  },
  {
   "cell_type": "code",
   "execution_count": 4,
   "metadata": {},
   "outputs": [
    {
     "name": "stdout",
     "output_type": "stream",
     "text": [
      "Example:\n",
      "10\n",
      "Coding complete? Click 'Check' to earn cool rewards!\n"
     ]
    }
   ],
   "source": [
    "def nearest_value(values: set, one: int) -> int:\n",
    "    list_diff = dict()\n",
    "    new_values = set()\n",
    "    \"\"\"В случае если число one уже есть во множестве сразу возвращаем результат функции\"\"\"\n",
    "    if one in values:\n",
    "        return one\n",
    "    else:\n",
    "        \"\"\" Для случая когда необходимо найти минимальное расстояние заводим словарик и складываем туда пару \n",
    "            ключ - число из множества values, значение - расстояние из tmp_num\n",
    "        \"\"\"\n",
    "        for i in values:\n",
    "            tmp_num = abs(one-i)\n",
    "            list_diff[i] = tmp_num\n",
    "    \"\"\"Поиск наименьшего расстояния от значения one\"\"\"\n",
    "    min_distance = min(list_diff.values())\n",
    "\n",
    "    \"\"\"Отбираем только тот диапазон ключей, где значение равно минимальному расстоянию\n",
    "    Если таких пар ключей больше двух, то также ищется минимальное значение ключа\"\"\"\n",
    "    for i, j in list_diff.items():\n",
    "        if j == min_distance:\n",
    "            new_values.add(i)\n",
    "    return min(new_values)\n",
    "    \n",
    "\n",
    "if __name__ == \"__main__\":\n",
    "    print(\"Example:\")\n",
    "    print(nearest_value({4, 7, 10, 11, 12, 17}, 9))\n",
    "\n",
    "    # These \"asserts\" are used for self-checking and not for an auto-testing\n",
    "    assert nearest_value({4, 7, 10, 11, 12, 17}, 9) == 10\n",
    "    assert nearest_value({4, 7, 10, 11, 12, 17}, 8) == 7\n",
    "    assert nearest_value({4, 8, 10, 11, 12, 17}, 9) == 8\n",
    "    assert nearest_value({4, 9, 10, 11, 12, 17}, 9) == 9\n",
    "    assert nearest_value({4, 7, 10, 11, 12, 17}, 0) == 4\n",
    "    assert nearest_value({4, 7, 10, 11, 12, 17}, 100) == 17\n",
    "    assert nearest_value({5, 10, 8, 12, 89, 100}, 7) == 8\n",
    "    assert nearest_value({5}, 5) == 5\n",
    "    assert nearest_value({5}, 7) == 5\n",
    "    print(\"Coding complete? Click 'Check' to earn cool rewards!\")"
   ]
  },
  {
   "cell_type": "code",
   "execution_count": 5,
   "metadata": {},
   "outputs": [],
   "source": [
    "# Любопытное решение задачи от других пользователей \n",
    "def nearest_value(values: set, one: int) -> int:\n",
    "    \n",
    "    return min(sorted(values), key = lambda i: abs(i - one)) "
   ]
  },
  {
   "cell_type": "markdown",
   "metadata": {},
   "source": [
    "# Задача 16\n",
    "Вам дана строка и два маркера (начальный и конечный). Вам необходимо найти текст, заключенный между двумя этими маркерами. Но есть несколько важных условий.\n",
    "\n",
    "Это упрощенная версия миссии Between Markers .\n",
    "\n",
    "Начальный и конечный маркеры всегда разные.\n",
    "Начальный и конечный маркеры всегда размером в один символ.\n",
    "Начальный и конечный маркеры всегда есть в строке и идут один за другим.\n",
    "Input: Три аргумента. Все строки. Второй и третий аргументы это начальный и конечный маркеры.\n",
    "\n",
    "Output: Строка.\n",
    "\n",
    "Пример:\n",
    "\n",
    "between_markers('What is >apple<', '>', '<') == 'apple'\n",
    "\n",
    "Как это используется: Может использоваться для парсинга небольшой верстки.\n",
    "\n",
    "Предусловия: Не может быть более одного маркера одного типа."
   ]
  },
  {
   "cell_type": "markdown",
   "metadata": {},
   "source": [
    "## Решение: "
   ]
  },
  {
   "cell_type": "code",
   "execution_count": null,
   "metadata": {},
   "outputs": [],
   "source": [
    "def between_markers(text: str, begin: str, end: str) -> str:\n",
    "    \"\"\"\n",
    "        returns substring between two given markers\n",
    "    \"\"\"\n",
    "    return text[text.index(begin)+1:text.index(end)]\n",
    "\n",
    "\n",
    "if __name__ == '__main__':\n",
    "    print('Example:')\n",
    "    print(between_markers('What is >apple<', '>', '<'))\n",
    "\n",
    "    # These \"asserts\" are used for self-checking and not for testing\n",
    "    assert between_markers('What is >apple<', '>', '<') == \"apple\"\n",
    "    assert between_markers('What is [apple]', '[', ']') == \"apple\"\n",
    "    assert between_markers('What is ><', '>', '<') == \"\"\n",
    "    assert between_markers('>apple<', '>', '<') == \"apple\"\n",
    "    print('Wow, you are doing pretty good. Time to check it!')"
   ]
  },
  {
   "cell_type": "markdown",
   "metadata": {},
   "source": [
    "# Задача 17\n",
    "На вход Вашей функции будет передано одно предложение. Необходимо вернуть его исправленную копию так, чтобы оно всегда начиналось с большой буквы и заканчивалось точкой.\n",
    "\n",
    "Обратите внимание на то, что не все исправления необходимы. Если предложение уже заканчивается на точку, то добавлять еще одну не нужно, это будет ошибкой\n",
    "\n",
    "Входные аргументы: Строка (A string).\n",
    "\n",
    "Выходные аргументы: Строка (A string).\n",
    "\n",
    "Пример:\n",
    "\n",
    "correct_sentence(\"greetings, friends\") == \"Greetings, friends.\" \\\n",
    "correct_sentence(\"Greetings, friends\") == \"Greetings, friends.\" \\\n",
    "correct_sentence(\"Greetings, friends.\") == \"Greetings, friends.\"\n",
    "\n",
    "Предусловия: В начале и конце нет пробелов, текст состоит только из пробелов, a-z A-Z , и ."
   ]
  },
  {
   "cell_type": "markdown",
   "metadata": {},
   "source": [
    "## Решение:"
   ]
  },
  {
   "cell_type": "code",
   "execution_count": 3,
   "metadata": {},
   "outputs": [
    {
     "name": "stdout",
     "output_type": "stream",
     "text": [
      "Example:\n",
      "Greetings, friends.\n",
      "Coding complete? Click 'Check' to earn cool rewards!\n"
     ]
    }
   ],
   "source": [
    "def correct_sentence(text: str) -> str:\n",
    "    \"\"\"\n",
    "        returns a corrected sentence which starts with a capital letter\n",
    "        and ends with a dot.\n",
    "    \"\"\"\n",
    "    if text[-1] != '.':\n",
    "        return text[0].upper()+text[1:]+'.'\n",
    "    else:\n",
    "        return text[0].upper()+text[1:]\n",
    "\n",
    "\n",
    "\n",
    "if __name__ == '__main__':\n",
    "    print(\"Example:\")\n",
    "    print(correct_sentence(\"greetings, friends\"))\n",
    "    \n",
    "    # These \"asserts\" are used for self-checking and not for an auto-testing\n",
    "    assert correct_sentence(\"greetings, friends\") == \"Greetings, friends.\"\n",
    "    assert correct_sentence(\"Greetings, friends\") == \"Greetings, friends.\"\n",
    "    assert correct_sentence(\"Greetings, friends.\") == \"Greetings, friends.\"\n",
    "    assert correct_sentence(\"hi\") == \"Hi.\"\n",
    "    assert correct_sentence(\"welcome to New York\") == \"Welcome to New York.\"\n",
    "    \n",
    "    print(\"Coding complete? Click 'Check' to earn cool rewards!\")"
   ]
  },
  {
   "cell_type": "markdown",
   "metadata": {},
   "source": [
    "# Задача 18\n",
    "Проверить является ли число четным или нет. Ваша функция должна возвращать True если число четное, и False если число не четное.\n",
    "\n",
    "Входные данные: Целое число.\n",
    "\n",
    "Выходные данные: Логический тип.\n",
    "\n",
    "Пример:\n",
    "\n",
    "is_even(2) == True \\\n",
    "is_even(5) == False \\\n",
    "is_even(0) == True\n",
    "\n",
    "Где это используется: (математика используется везде)\n",
    "\n",
    "Условия: целые числа даны в диапазоне от -1000 и до 1000"
   ]
  },
  {
   "cell_type": "markdown",
   "metadata": {},
   "source": [
    "## Решение:"
   ]
  },
  {
   "cell_type": "code",
   "execution_count": 2,
   "metadata": {},
   "outputs": [
    {
     "name": "stdout",
     "output_type": "stream",
     "text": [
      "Example:\n",
      "True\n",
      "Coding complete? Click 'Check' to earn cool rewards!\n"
     ]
    }
   ],
   "source": [
    "def is_even(num: int) -> bool:\n",
    "    \n",
    "    return False if num % 2 else True\n",
    "\n",
    "\n",
    "if __name__ == '__main__':\n",
    "    print(\"Example:\")\n",
    "    print(is_even(2))\n",
    "\n",
    "    # These \"asserts\" are used for self-checking and not for an auto-testing\n",
    "    assert is_even(2) == True\n",
    "    assert is_even(5) == False\n",
    "    assert is_even(0) == True\n",
    "    print(\"Coding complete? Click 'Check' to earn cool rewards!\")"
   ]
  },
  {
   "cell_type": "markdown",
   "metadata": {},
   "source": [
    "## Задача 19\n",
    "Вам дан текст в котором нужно просуммировать числа, но только разделенные пробелом. Если число является частью слова, то его суммировать не нужно.\n",
    "\n",
    "Текст состоит из чисел, пробелов и букв английского алфавита.\n",
    "\n",
    "Входные данные: Строка.\n",
    "\n",
    "Выходные данные: Целое число.\n",
    "\n",
    "Пример:\n",
    "\n",
    "sum_numbers('hi') == 0 \\\n",
    "sum_numbers('who is 1st here') == 0 \\\n",
    "sum_numbers('my numbers is 2') == 2 \\\n",
    "sum_numbers('This picture is an oil on canvas ' \\\n",
    " 'painting by Danish artist Anna ' \\\n",
    " 'Petersen between 1845 and 1910 year') == 3755 \\\n",
    "sum_numbers('5 plus 6 is') == 11 \\\n",
    "sum_numbers('') == 0"
   ]
  },
  {
   "cell_type": "markdown",
   "metadata": {},
   "source": [
    "## Решение:"
   ]
  },
  {
   "cell_type": "code",
   "execution_count": 1,
   "metadata": {},
   "outputs": [
    {
     "name": "stdout",
     "output_type": "stream",
     "text": [
      "Example:\n",
      "0\n",
      "Coding complete? Click 'Check' to earn cool rewards!\n"
     ]
    }
   ],
   "source": [
    "def sum_numbers(text: str) -> int:\n",
    "    sum = 0\n",
    "    for i in text.split():\n",
    "        if i.isdigit():\n",
    "            sum += int(i)\n",
    "    return sum\n",
    "\n",
    "\n",
    "if __name__ == \"__main__\":\n",
    "    print(\"Example:\")\n",
    "    print(sum_numbers(\"hi\"))\n",
    "\n",
    "    # These \"asserts\" are used for self-checking and not for an auto-testing\n",
    "    assert sum_numbers(\"hi\") == 0\n",
    "    assert sum_numbers(\"who is 1st here\") == 0\n",
    "    assert sum_numbers(\"my numbers is 2\") == 2\n",
    "    assert (\n",
    "        sum_numbers(\n",
    "            \"This picture is an oil on canvas \"\n",
    "            \"painting by Danish artist Anna \"\n",
    "            \"Petersen between 1845 and 1910 year\"\n",
    "        )\n",
    "        == 3755\n",
    "    )\n",
    "    assert sum_numbers(\"5 plus 6 is\") == 11\n",
    "    assert sum_numbers(\"\") == 0\n",
    "    print(\"Coding complete? Click 'Check' to earn cool rewards!\")"
   ]
  }
 ],
 "metadata": {
  "kernelspec": {
   "display_name": "Python 3",
   "language": "python",
   "name": "python3"
  },
  "language_info": {
   "codemirror_mode": {
    "name": "ipython",
    "version": 3
   },
   "file_extension": ".py",
   "mimetype": "text/x-python",
   "name": "python",
   "nbconvert_exporter": "python",
   "pygments_lexer": "ipython3",
   "version": "3.9.7"
  }
 },
 "nbformat": 4,
 "nbformat_minor": 5
}
